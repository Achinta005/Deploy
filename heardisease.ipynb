{
 "cells": [
  {
   "cell_type": "code",
   "execution_count": null,
   "id": "f72e8a8d",
   "metadata": {},
   "outputs": [],
   "source": [
    "import pandas as pd\n",
    "import numpy as np"
   ]
  },
  {
   "cell_type": "code",
   "execution_count": null,
   "id": "5b1aafe2",
   "metadata": {},
   "outputs": [],
   "source": [
    "raw_df=pd.read_csv('heart_disease.csv')"
   ]
  },
  {
   "cell_type": "code",
   "execution_count": null,
   "id": "67f5b489",
   "metadata": {},
   "outputs": [],
   "source": [
    "raw_df.info()"
   ]
  },
  {
   "cell_type": "code",
   "execution_count": null,
   "id": "962c8b04",
   "metadata": {},
   "outputs": [],
   "source": [
    "raw_df.describe()"
   ]
  },
  {
   "cell_type": "code",
   "execution_count": null,
   "id": "68a0d5e6",
   "metadata": {},
   "outputs": [],
   "source": [
    "import matplotlib\n",
    "import matplotlib.pyplot as plt\n",
    "import plotly.express as px\n",
    "import seaborn as sns\n",
    "%matplotlib inline\n",
    "sns.set_style('darkgrid')\n",
    "matplotlib.rcParams['font.size'] = 14\n",
    "matplotlib.rcParams['figure.figsize'] = (10, 6)\n",
    "matplotlib.rcParams['figure.facecolor'] = '#00000000'"
   ]
  },
  {
   "cell_type": "code",
   "execution_count": null,
   "id": "09eb1a64",
   "metadata": {},
   "outputs": [],
   "source": [
    "# Encode target variable\n",
    "raw_df['Heart Disease Status'] = (raw_df['Heart Disease Status'] == 'Yes').astype(int)"
   ]
  },
  {
   "cell_type": "code",
   "execution_count": null,
   "id": "701c085a",
   "metadata": {},
   "outputs": [],
   "source": [
    "from sklearn.model_selection import train_test_split\n",
    "\n",
    "train_val_df,test_dataset=train_test_split(raw_df,test_size=0.2,random_state=42)\n",
    "training_dataset,validation_dataset=train_test_split(train_val_df,test_size=0.25,random_state=42)"
   ]
  },
  {
   "cell_type": "code",
   "execution_count": null,
   "id": "87b14a3e",
   "metadata": {},
   "outputs": [],
   "source": [
    "input_column=list(training_dataset)[1:-1]\n",
    "target_column='Heart Disease Status'"
   ]
  },
  {
   "cell_type": "code",
   "execution_count": null,
   "id": "5f21c66e",
   "metadata": {},
   "outputs": [],
   "source": [
    "train_input=training_dataset[input_column].copy()\n",
    "train_target=training_dataset[target_column].copy()\n",
    "\n",
    "val_input=validation_dataset[input_column].copy()\n",
    "val_target=validation_dataset[target_column].copy()\n",
    "\n",
    "test_input=test_dataset[input_column].copy()\n",
    "test_target=test_dataset[target_column].copy()"
   ]
  },
  {
   "cell_type": "code",
   "execution_count": null,
   "id": "6fff0c50",
   "metadata": {},
   "outputs": [],
   "source": [
    "numercal_cols=train_input.select_dtypes(include=np.number).columns.tolist()\n",
    "categorical_cols=train_input.select_dtypes('object').columns.tolist()"
   ]
  },
  {
   "cell_type": "code",
   "execution_count": null,
   "id": "f84229c2",
   "metadata": {},
   "outputs": [],
   "source": [
    "print(\"=\"*70)\n",
    "print(\"TARGET VARIABLE DISTRIBUTION\")\n",
    "print(\"=\"*70)\n",
    "print(train_target.value_counts())\n",
    "print(\"\\nClass Distribution (%):\")\n",
    "print(train_target.value_counts(normalize=True) * 100)\n",
    "print(\"\\n\")\n",
    "# Visualize target distribution\n",
    "fig, axes = plt.subplots(1, 2, figsize=(12, 4))\n",
    "train_target.value_counts().plot(kind='bar', ax=axes[0], color=['#3498db', '#e74c3c'])\n",
    "axes[0].set_title('Heart Disease Status Distribution (Count)')\n",
    "axes[0].set_xlabel('Heart Disease Status')\n",
    "axes[0].set_ylabel('Count')\n",
    "axes[0].tick_params(axis='x', rotation=0)\n",
    "\n",
    "train_target.value_counts(normalize=True).plot(kind='pie', ax=axes[1], autopct='%1.1f%%', colors=['#3498db', '#e74c3c'], labels=['No', 'Yes'])\n",
    "axes[1].set_title('Heart Disease Status Distribution (%)')\n",
    "axes[1].set_ylabel('')\n",
    "plt.tight_layout()\n",
    "plt.show()"
   ]
  },
  {
   "cell_type": "code",
   "execution_count": null,
   "id": "1fe8ff85",
   "metadata": {},
   "outputs": [],
   "source": [
    "correlations = {}\n",
    "for col in numercal_cols:\n",
    "    corr = train_input[col].corr(train_target)\n",
    "    correlations[col] = corr\n",
    "\n",
    "corr_df = pd.DataFrame(list(correlations.items()), columns=['Feature', 'Correlation'])\n",
    "corr_df['Abs_Correlation'] = abs(corr_df['Correlation'])\n",
    "corr_df = corr_df.sort_values('Abs_Correlation', ascending=False)\n",
    "\n",
    "print(corr_df[['Feature', 'Correlation']])\n",
    "print(\"\\n\")"
   ]
  },
  {
   "cell_type": "code",
   "execution_count": null,
   "id": "a5ac26bd",
   "metadata": {},
   "outputs": [],
   "source": [
    "from sklearn.impute import SimpleImputer\n",
    "imputer=SimpleImputer(strategy='mean')\n",
    "\n",
    "imputer.fit(raw_df[numercal_cols])\n",
    "\n",
    "train_input[numercal_cols]=imputer.transform(train_input[numercal_cols])\n",
    "val_input[numercal_cols]=imputer.transform(val_input[numercal_cols])\n",
    "test_input[numercal_cols]=imputer.transform(test_input[numercal_cols])"
   ]
  },
  {
   "cell_type": "code",
   "execution_count": null,
   "id": "90f196de",
   "metadata": {},
   "outputs": [],
   "source": [
    "# Median method for categorical missing value \n",
    "imputer=SimpleImputer(strategy='most_frequent')\n",
    "imputer.fit(raw_df[categorical_cols])\n",
    "\n",
    "train_input[categorical_cols]=imputer.transform(train_input[categorical_cols])\n",
    "val_input[categorical_cols]=imputer.transform(val_input[categorical_cols])\n",
    "test_input[categorical_cols]=imputer.transform(test_input[categorical_cols])"
   ]
  },
  {
   "cell_type": "code",
   "execution_count": null,
   "id": "ef45d5bd",
   "metadata": {},
   "outputs": [],
   "source": [
    "# Feature Scalling\n",
    "from sklearn.preprocessing import MinMaxScaler\n",
    "scaler = MinMaxScaler()\n",
    "scaler.fit(raw_df[numercal_cols])\n",
    "\n",
    "train_input[numercal_cols]=scaler.transform(train_input[numercal_cols])\n",
    "val_input[numercal_cols]=scaler.transform(val_input[numercal_cols])\n",
    "test_input[numercal_cols]=scaler.transform(test_input[numercal_cols])"
   ]
  },
  {
   "cell_type": "code",
   "execution_count": null,
   "id": "904c5496",
   "metadata": {},
   "outputs": [],
   "source": [
    "train_input.describe()"
   ]
  },
  {
   "cell_type": "code",
   "execution_count": null,
   "id": "5beedf66",
   "metadata": {},
   "outputs": [],
   "source": [
    "#  Encoding Categorcal data \n",
    "from sklearn.preprocessing import OneHotEncoder\n",
    "encoder = OneHotEncoder(sparse_output=False, handle_unknown='ignore')\n",
    "encoder.fit(raw_df[categorical_cols])\n",
    "\n",
    "encoded_cols=(encoder.get_feature_names_out(categorical_cols))\n",
    "\n",
    "train_input[encoded_cols]=encoder.transform(train_input[categorical_cols])\n",
    "val_input[encoded_cols]=encoder.transform(val_input[categorical_cols])\n",
    "test_input[encoded_cols]=encoder.transform(test_input[categorical_cols])"
   ]
  },
  {
   "cell_type": "code",
   "execution_count": null,
   "id": "0588bc13",
   "metadata": {},
   "outputs": [],
   "source": [
    "from sklearn.linear_model import LogisticRegression\n",
    "model=LogisticRegression(solver='liblinear')\n",
    "\n",
    "model.fit(train_input[numercal_cols+list(encoded_cols)],train_target)"
   ]
  },
  {
   "cell_type": "code",
   "execution_count": null,
   "id": "81fb6e2c",
   "metadata": {},
   "outputs": [],
   "source": [
    "print(model.coef_)\n",
    "print(model.intercept_)"
   ]
  },
  {
   "cell_type": "code",
   "execution_count": null,
   "id": "69fa917d",
   "metadata": {},
   "outputs": [],
   "source": [
    "# Use the same encoded columns as during training\n",
    "encoded_feature_names = numercal_cols + list(encoded_cols)\n",
    "training_predictions = model.predict(train_input[encoded_feature_names])\n",
    "validation_predictions = model.predict(val_input[encoded_feature_names])\n",
    "test_predictions = model.predict(test_input[encoded_feature_names])"
   ]
  },
  {
   "cell_type": "code",
   "execution_count": null,
   "id": "9a978500",
   "metadata": {},
   "outputs": [],
   "source": [
    "# finding accurency(error) in predictions\n",
    "from sklearn.metrics import accuracy_score\n",
    "print(accuracy_score(train_target,training_predictions))\n",
    "print(accuracy_score(val_target,validation_predictions))\n",
    "print(accuracy_score(test_target,test_predictions))"
   ]
  },
  {
   "cell_type": "code",
   "execution_count": null,
   "id": "963df926",
   "metadata": {},
   "outputs": [],
   "source": [
    "import joblib\n",
    "Heart_Disease_Predictor = {\n",
    "    'model': model,\n",
    "    'imputer': imputer,\n",
    "    'scaler': scaler,\n",
    "    'encoder': encoder,\n",
    "    'input_cols': input_column,\n",
    "    'target_col': target_column,\n",
    "    'numeric_cols': numercal_cols,\n",
    "    'categorical_cols': categorical_cols,\n",
    "    'encoded_cols': encoded_cols\n",
    "}\n",
    "joblib.dump(Heart_Disease_Predictor, 'Heart_Disease_Predictor.joblib')"
   ]
  },
  {
   "cell_type": "code",
   "execution_count": null,
   "id": "677dc9d2",
   "metadata": {},
   "outputs": [],
   "source": [
    "import numpy as np\n",
    "import pandas as pd\n",
    "from sklearn.metrics import accuracy_score\n",
    "data = { \n",
    "    'Gender': 'Male',\n",
    "    'Blood Pressure': 0.466667,\n",
    "    'Cholesterol Level': 0.933333,\n",
    "    'Exercise Habits': 'High',\n",
    "    'Smoking': 'Yes',\n",
    "    'Family Heart Disease': 'No',\n",
    "    'Diabetes': 'Yes',\n",
    "    'BMI': 0.877067,\n",
    "    'High Blood Pressure': 'Yes',\n",
    "    'Low HDL Cholesterol': 'No',\n",
    "    'High LDL Cholesterol': 'No',\n",
    "    'Alcohol Consumption': 'Low',\n",
    "    'Stress Level': 'Medium',\n",
    "    'Sleep Hours': 0.153273,\n",
    "    'Sugar Consumption': 'Low',\n",
    "    'Triglyceride Level': 0.22,\n",
    "    'Fasting Blood Sugar': 0.575,\n",
    "    'CRP Level': 0.85884,\n",
    "    'Homocysteine Level': 0.835992\n",
    "}\n",
    "new_input_df = pd.DataFrame([data])\n",
    "numerical_cols = [\n",
    "    'Blood Pressure',\n",
    "    'Cholesterol Level',\n",
    "    'BMI',\n",
    "    'Sleep Hours',\n",
    "    'Triglyceride Level',\n",
    "    'Fasting Blood Sugar',\n",
    "    'CRP Level',\n",
    "    'Homocysteine Level'\n",
    "]\n",
    "imputer_cols = imputer.feature_names_in_\n",
    "\n",
    "for col in imputer_cols:\n",
    "    if col not in new_input_df.columns:\n",
    "        new_input_df[col] = np.nan\n",
    "\n",
    "new_input_df[imputer_cols] = imputer.transform(new_input_df[imputer_cols])\n",
    "new_input_df[numerical_cols] = scaler.transform(new_input_df[numerical_cols])\n",
    "new_input_encoded = pd.get_dummies(new_input_df)\n",
    "\n",
    "for col in encoded_feature_names:\n",
    "    if col not in new_input_encoded.columns:\n",
    "        new_input_encoded[col] = 0\n",
    "\n",
    "new_input_encoded = new_input_encoded[encoded_feature_names]\n",
    "prediction = model.predict(new_input_encoded)\n",
    "print(\"Predicted output:\", prediction)\n",
    "training_predictions = model.predict(train_input[encoded_feature_names])\n",
    "accuracy = accuracy_score(train_target, training_predictions)\n",
    "print(\"Training Accuracy:\", accuracy)"
   ]
  }
 ],
 "metadata": {
  "kernelspec": {
   "display_name": "machine_learning",
   "language": "python",
   "name": "python3"
  },
  "language_info": {
   "codemirror_mode": {
    "name": "ipython",
    "version": 3
   },
   "file_extension": ".py",
   "mimetype": "text/x-python",
   "name": "python",
   "nbconvert_exporter": "python",
   "pygments_lexer": "ipython3",
   "version": "3.12.11"
  }
 },
 "nbformat": 4,
 "nbformat_minor": 5
}
