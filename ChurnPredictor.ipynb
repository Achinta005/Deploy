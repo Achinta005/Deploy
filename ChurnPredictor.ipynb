{
 "cells": [
  {
   "cell_type": "code",
   "execution_count": null,
   "id": "eb7e843a",
   "metadata": {},
   "outputs": [],
   "source": [
    "import pandas as pd\n",
    "raw_df=pd.read_csv('WA_Fn-UseC_-Telco-Customer-Churn.csv')"
   ]
  },
  {
   "cell_type": "code",
   "execution_count": null,
   "id": "f240b54a",
   "metadata": {},
   "outputs": [],
   "source": [
    "raw_df.info()"
   ]
  },
  {
   "cell_type": "code",
   "execution_count": null,
   "id": "c1f86bfa",
   "metadata": {},
   "outputs": [],
   "source": [
    "raw_df['TotalCharges'] = pd.to_numeric(raw_df['TotalCharges'], errors='coerce')"
   ]
  },
  {
   "cell_type": "code",
   "execution_count": null,
   "id": "99644a69",
   "metadata": {},
   "outputs": [],
   "source": [
    "from sklearn.model_selection import train_test_split\n",
    "train_df, test_df = train_test_split(raw_df, test_size=0.2, random_state=42, stratify=raw_df['Churn'])\n",
    "train_df, val_df = train_test_split(train_df, test_size=0.25, random_state=42, stratify=train_df['Churn'])"
   ]
  },
  {
   "cell_type": "code",
   "execution_count": null,
   "id": "1ee5ac73",
   "metadata": {},
   "outputs": [],
   "source": [
    "train_df.info()"
   ]
  },
  {
   "cell_type": "code",
   "execution_count": null,
   "id": "f67f5e0c",
   "metadata": {},
   "outputs": [],
   "source": [
    "input_column=list(train_df.columns)[1:-1]\n",
    "target_column='Churn'"
   ]
  },
  {
   "cell_type": "code",
   "execution_count": null,
   "id": "54fc95ac",
   "metadata": {},
   "outputs": [],
   "source": [
    "train_input=train_df[input_column]\n",
    "train_target=train_df[target_column]\n",
    "val_input=val_df[input_column]\n",
    "val_target=val_df[target_column]\n",
    "test_input=test_df[input_column]\n",
    "test_target=test_df[target_column]"
   ]
  },
  {
   "cell_type": "code",
   "execution_count": null,
   "id": "6596a196",
   "metadata": {},
   "outputs": [],
   "source": [
    "import numpy as np"
   ]
  },
  {
   "cell_type": "code",
   "execution_count": null,
   "id": "31c63b48",
   "metadata": {},
   "outputs": [],
   "source": [
    "numerical_cols=train_input.select_dtypes(include=np.number).columns.tolist()\n",
    "categorical_cols=train_input.select_dtypes('object').columns.tolist()\n",
    "print(numerical_cols)\n",
    "print(categorical_cols)"
   ]
  },
  {
   "cell_type": "code",
   "execution_count": null,
   "id": "168fa6ec",
   "metadata": {},
   "outputs": [],
   "source": [
    "train_input[categorical_cols]"
   ]
  },
  {
   "cell_type": "code",
   "execution_count": null,
   "id": "a046ff58",
   "metadata": {},
   "outputs": [],
   "source": [
    "from sklearn.impute import SimpleImputer\n",
    "imputer_num=SimpleImputer(strategy='mean')\n",
    "imputer_cat=SimpleImputer(strategy='most_frequent')\n",
    "\n",
    "imputer_num.fit(train_df[numerical_cols])\n",
    "imputer_cat.fit(train_df[categorical_cols])\n",
    "\n",
    "train_input[numerical_cols]=imputer_num.transform(train_input[numerical_cols])\n",
    "val_input[numerical_cols]=imputer_num.transform(val_input[numerical_cols])\n",
    "test_input[numerical_cols]=imputer_num.transform(test_input[numerical_cols])\n",
    "\n",
    "train_input[categorical_cols]=imputer_cat.transform(train_input[categorical_cols])\n",
    "val_input[categorical_cols]=imputer_cat.transform(val_input[categorical_cols])\n",
    "test_input[categorical_cols]=imputer_cat.transform(test_input[categorical_cols])"
   ]
  },
  {
   "cell_type": "code",
   "execution_count": null,
   "id": "0a9a8cce",
   "metadata": {},
   "outputs": [],
   "source": [
    "from sklearn.preprocessing import MinMaxScaler\n",
    "scaler=MinMaxScaler()\n",
    "scaler.fit(raw_df[numerical_cols])\n",
    "train_input[numerical_cols]=scaler.transform(train_input[numerical_cols])\n",
    "val_input[numerical_cols]=scaler.transform(val_input[numerical_cols])\n",
    "test_input[numerical_cols]=scaler.transform(test_input[numerical_cols])"
   ]
  },
  {
   "cell_type": "code",
   "execution_count": null,
   "id": "292d8b91",
   "metadata": {},
   "outputs": [],
   "source": [
    "train_input.describe()"
   ]
  },
  {
   "cell_type": "code",
   "execution_count": null,
   "id": "60746c34",
   "metadata": {},
   "outputs": [],
   "source": [
    "#  Encoding Categorcal data \n",
    "from sklearn.preprocessing import OneHotEncoder\n",
    "encoder = OneHotEncoder(sparse_output=False, handle_unknown='ignore')\n",
    "encoder.fit(raw_df[categorical_cols])\n",
    "\n",
    "encoded_cols=(encoder.get_feature_names_out(categorical_cols))\n",
    "\n",
    "train_input[encoded_cols]=encoder.transform(train_input[categorical_cols])\n",
    "val_input[encoded_cols]=encoder.transform(val_input[categorical_cols])\n",
    "test_input[encoded_cols]=encoder.transform(test_input[categorical_cols])"
   ]
  },
  {
   "cell_type": "code",
   "execution_count": null,
   "id": "cd1fa21f",
   "metadata": {},
   "outputs": [],
   "source": [
    "X_train = train_input[numerical_cols + list(encoded_cols)]\n",
    "X_val = val_input[numerical_cols + list(encoded_cols)]\n",
    "X_test = test_input[numerical_cols + list(encoded_cols)]"
   ]
  },
  {
   "cell_type": "code",
   "execution_count": null,
   "id": "c1b0b508",
   "metadata": {},
   "outputs": [],
   "source": [
    "from sklearn.ensemble import RandomForestClassifier\n",
    "base_model=RandomForestClassifier(n_jobs=-1,random_state=42,max_depth=7,n_estimators=300,max_features='log2',min_samples_split=30,min_samples_leaf=1)"
   ]
  },
  {
   "cell_type": "code",
   "execution_count": null,
   "id": "905dd222",
   "metadata": {},
   "outputs": [],
   "source": [
    "base_model.fit(X_train,train_target)"
   ]
  },
  {
   "cell_type": "code",
   "execution_count": null,
   "id": "282c988b",
   "metadata": {},
   "outputs": [],
   "source": [
    "def base_acc():\n",
    "    return base_model.score(X_train,train_target),base_model.score(X_val,val_target)"
   ]
  },
  {
   "cell_type": "code",
   "execution_count": null,
   "id": "ba17b009",
   "metadata": {},
   "outputs": [],
   "source": [
    "def max_depth_error(md):\n",
    "    model = RandomForestClassifier(max_depth=md, random_state=42)\n",
    "    model.fit(X_train, train_target)\n",
    "    train_acc = 1 - model.score(X_train, train_target)\n",
    "    val_acc = 1 - model.score(X_val, val_target)\n",
    "    return {'Max Depth': md, 'Training Error': train_acc, 'Validation Error': val_acc}\n",
    "errors_df = pd.DataFrame([max_depth_error(md) for md in range(1, 21)])\n",
    "errors_df"
   ]
  },
  {
   "cell_type": "code",
   "execution_count": null,
   "id": "df97b40a",
   "metadata": {},
   "outputs": [],
   "source": [
    "def test_params(**params):\n",
    "    model = RandomForestClassifier(random_state=42, n_jobs=-1, **params).fit(X_train, train_target)\n",
    "    return base_acc(),model.score(X_train, train_target), model.score(X_val, val_target)"
   ]
  },
  {
   "cell_type": "code",
   "execution_count": 207,
   "id": "864ab891",
   "metadata": {},
   "outputs": [
    {
     "data": {
      "text/plain": [
       "((0.8191715976331361, 0.8034066713981547),\n",
       " 0.8191715976331361,\n",
       " 0.8034066713981547)"
      ]
     },
     "execution_count": 207,
     "metadata": {},
     "output_type": "execute_result"
    }
   ],
   "source": [
    "test_params(max_depth=7,n_estimators=300,max_features='log2',min_samples_split=30,min_samples_leaf=1)"
   ]
  },
  {
   "cell_type": "code",
   "execution_count": null,
   "id": "8ee51f6a",
   "metadata": {},
   "outputs": [],
   "source": [
    "X_val.iloc[0]"
   ]
  },
  {
   "cell_type": "code",
   "execution_count": null,
   "id": "686b4993",
   "metadata": {},
   "outputs": [],
   "source": [
    "def predict_input(single_input):\n",
    "    input_df = pd.DataFrame([single_input])\n",
    "    input_df[numerical_cols] = imputer_num.transform(input_df[numerical_cols])\n",
    "    input_df[numerical_cols] = scaler.transform(input_df[numerical_cols])\n",
    "    input_df[encoded_cols] = encoder.transform(input_df[categorical_cols])\n",
    "    X_input = input_df[numerical_cols + list(encoded_cols)]\n",
    "    pred = base_model.predict(X_input)[0]\n",
    "    prob = base_model.predict_proba(X_input)[0][list(base_model.classes_).index(pred)]\n",
    "    return pred, prob"
   ]
  },
  {
   "cell_type": "code",
   "execution_count": 204,
   "id": "bcf8f2dd",
   "metadata": {},
   "outputs": [
    {
     "name": "stdout",
     "output_type": "stream",
     "text": [
      "Prediction: No\n",
      "Probability: 0.5757\n",
      "\n",
      "Customer Profile:\n",
      "  - Senior Citizen: No\n",
      "  - Tenure: 24 months\n",
      "  - Monthly Charges: $65.50\n",
      "  - Total Charges: $1572.00\n",
      "  - Internet Service: Fiber optic\n",
      "  - Contract Type: Month-to-month\n",
      "\n",
      "Churn Prediction: No - Customer likely to stay\n",
      "Confidence: 57.57%\n"
     ]
    }
   ],
   "source": [
    "# Create a single input example based on X_val structure\n",
    "single_customer = {\n",
    "    'SeniorCitizen': 0,\n",
    "    'tenure': 24,\n",
    "    'MonthlyCharges': 65.5,\n",
    "    'TotalCharges': 1572.0,\n",
    "    'gender': 'Male',\n",
    "    'Partner': 'Yes',\n",
    "    'Dependents': 'No',\n",
    "    'PhoneService': 'Yes',\n",
    "    'MultipleLines': 'No',\n",
    "    'InternetService': 'Fiber optic',\n",
    "    'OnlineSecurity': 'No',\n",
    "    'OnlineBackup': 'Yes',\n",
    "    'DeviceProtection': 'No',\n",
    "    'TechSupport': 'No',\n",
    "    'StreamingTV': 'Yes',\n",
    "    'StreamingMovies': 'No',\n",
    "    'Contract': 'Month-to-month',\n",
    "    'PaperlessBilling': 'Yes',\n",
    "    'PaymentMethod': 'Electronic check'\n",
    "}\n",
    "\n",
    "# Make prediction\n",
    "prediction, probability = predict_input(single_customer)\n",
    "\n",
    "print(f\"Prediction: {prediction}\")\n",
    "print(f\"Probability: {probability:.4f}\")\n",
    "print(f\"\\nCustomer Profile:\")\n",
    "print(f\"  - Senior Citizen: {'Yes' if single_customer['SeniorCitizen'] == 1 else 'No'}\")\n",
    "print(f\"  - Tenure: {single_customer['tenure']} months\")\n",
    "print(f\"  - Monthly Charges: ${single_customer['MonthlyCharges']:.2f}\")\n",
    "print(f\"  - Total Charges: ${single_customer['TotalCharges']:.2f}\")\n",
    "print(f\"  - Internet Service: {single_customer['InternetService']}\")\n",
    "print(f\"  - Contract Type: {single_customer['Contract']}\")\n",
    "print(f\"\\nChurn Prediction: {'Yes - Customer likely to churn' if prediction == 'Yes' else 'No - Customer likely to stay'}\")\n",
    "print(f\"Confidence: {probability*100:.2f}%\")"
   ]
  },
  {
   "cell_type": "code",
   "execution_count": 205,
   "id": "471e2a99",
   "metadata": {},
   "outputs": [
    {
     "data": {
      "text/plain": [
       "['customer_churn_prediction.joblib']"
      ]
     },
     "execution_count": 205,
     "metadata": {},
     "output_type": "execute_result"
    }
   ],
   "source": [
    "import joblib\n",
    "model_package = {\n",
    "    'model': base_model,\n",
    "    'imputer_num': imputer_num,\n",
    "    'imputer_cat': imputer_cat,\n",
    "    'scaler': scaler,\n",
    "    'encoder': encoder,\n",
    "    'numerical_cols': numerical_cols,\n",
    "    'categorical_cols': categorical_cols,\n",
    "    'encoded_cols': list(encoded_cols)\n",
    "}\n",
    "\n",
    "# Save everything in one file\n",
    "joblib.dump(model_package, 'customer_churn_prediction.joblib')"
   ]
  },
  {
   "cell_type": "code",
   "execution_count": 206,
   "id": "a1c1935a",
   "metadata": {},
   "outputs": [
    {
     "name": "stdout",
     "output_type": "stream",
     "text": [
      "\n",
      "==================================================\n",
      "CHURN PREDICTION RESULT\n",
      "==================================================\n",
      "Prediction: No\n",
      "Confidence: 57.57%\n",
      "==================================================\n",
      "✓ LOW RISK - Customer is likely to stay\n"
     ]
    }
   ],
   "source": [
    "import joblib\n",
    "import pandas as pd\n",
    "\n",
    "# Load everything from single file\n",
    "model_package = joblib.load('customer_churn_prediction.joblib')\n",
    "\n",
    "# Extract components\n",
    "model = model_package['model']\n",
    "imputer_num = model_package['imputer_num']\n",
    "imputer_cat = model_package['imputer_cat']\n",
    "scaler = model_package['scaler']\n",
    "encoder = model_package['encoder']\n",
    "numerical_cols = model_package['numerical_cols']\n",
    "categorical_cols = model_package['categorical_cols']\n",
    "encoded_cols = model_package['encoded_cols']\n",
    "\n",
    "def predict_churn(customer_data):\n",
    "    \"\"\"\n",
    "    Predict churn for a single customer\n",
    "    \n",
    "    Args:\n",
    "        customer_data (dict): Dictionary with customer information\n",
    "        \n",
    "    Returns:\n",
    "        tuple: (prediction, probability)\n",
    "    \"\"\"\n",
    "    # Convert to DataFrame\n",
    "    input_df = pd.DataFrame([customer_data])\n",
    "    \n",
    "    # Handle numerical columns\n",
    "    input_df[numerical_cols] = imputer_num.transform(input_df[numerical_cols])\n",
    "    input_df[numerical_cols] = scaler.transform(input_df[numerical_cols])\n",
    "    \n",
    "    # Handle categorical columns\n",
    "    input_df[encoded_cols] = encoder.transform(input_df[categorical_cols])\n",
    "    \n",
    "    # Prepare features\n",
    "    X_input = input_df[numerical_cols + encoded_cols]\n",
    "    \n",
    "    # Make prediction\n",
    "    pred = model.predict(X_input)[0]\n",
    "    prob = model.predict_proba(X_input)[0][list(model.classes_).index(pred)]\n",
    "    \n",
    "    return pred, prob\n",
    "\n",
    "# ===== USAGE EXAMPLE =====\n",
    "\n",
    "customer = {\n",
    "    'SeniorCitizen': 0,\n",
    "    'tenure': 24,\n",
    "    'MonthlyCharges': 65.5,\n",
    "    'TotalCharges': 1572.0,\n",
    "    'gender': 'Male',\n",
    "    'Partner': 'Yes',\n",
    "    'Dependents': 'No',\n",
    "    'PhoneService': 'Yes',\n",
    "    'MultipleLines': 'No',\n",
    "    'InternetService': 'Fiber optic',\n",
    "    'OnlineSecurity': 'No',\n",
    "    'OnlineBackup': 'Yes',\n",
    "    'DeviceProtection': 'No',\n",
    "    'TechSupport': 'No',\n",
    "    'StreamingTV': 'Yes',\n",
    "    'StreamingMovies': 'No',\n",
    "    'Contract': 'Month-to-month',\n",
    "    'PaperlessBilling': 'Yes',\n",
    "    'PaymentMethod': 'Electronic check'\n",
    "}\n",
    "\n",
    "prediction, confidence = predict_churn(customer)\n",
    "\n",
    "print(f\"\\n{'='*50}\")\n",
    "print(f\"CHURN PREDICTION RESULT\")\n",
    "print(f\"{'='*50}\")\n",
    "print(f\"Prediction: {prediction}\")\n",
    "print(f\"Confidence: {confidence*100:.2f}%\")\n",
    "print(f\"{'='*50}\")\n",
    "\n",
    "if prediction == 'Yes':\n",
    "    print(\"⚠️  HIGH RISK - Customer is likely to churn\")\n",
    "else:\n",
    "    print(\"✓ LOW RISK - Customer is likely to stay\")"
   ]
  }
 ],
 "metadata": {
  "kernelspec": {
   "display_name": "machine_learning",
   "language": "python",
   "name": "python3"
  },
  "language_info": {
   "codemirror_mode": {
    "name": "ipython",
    "version": 3
   },
   "file_extension": ".py",
   "mimetype": "text/x-python",
   "name": "python",
   "nbconvert_exporter": "python",
   "pygments_lexer": "ipython3",
   "version": "3.12.11"
  }
 },
 "nbformat": 4,
 "nbformat_minor": 5
}
